{
 "cells": [
  {
   "cell_type": "markdown",
   "id": "6ba61e38",
   "metadata": {},
   "source": [
    "## Recipe Ingredient Analysis Notebook\n",
    "\n",
    "### Objectives and Approach\n",
    "\n",
    "In this notebook, I will work on analyzing ingredients from a Spanish recipe dataset with the following goals:\n",
    "\n",
    "- **Identify whether a given word or phrase is an ingredient or not**, using a combination of rule-based checks and embedding-based similarity.\n",
    "- **Detect duplicate ingredients** that appear in different forms (e.g., gender variations like *quemado/quemada*, singular/plural forms) to clean and consolidate the ingredient list.\n",
    "- **Find substitute or similar ingredients** by leveraging word embeddings, helping with recipe modification or alternative recommendations.\n",
    "- **Create meaningful categories or clusters of ingredients** to organize them better (e.g., spices, vegetables, dairy).\n",
    "\n",
    "The code will be designed modularly, allowing us to switch between different embedding models or techniques easily.  \n",
    "Initially, I will use a **custom-trained Word2Vec model** built on our Spanish recipe corpus to capture the semantic relationships between ingredients.\n"
   ]
  },
  {
   "cell_type": "code",
   "execution_count": null,
   "id": "ab94f16d",
   "metadata": {},
   "outputs": [],
   "source": [
    "import numpy as np\n",
    "import pandas as pd\n",
    "\n",
    "import matplotlib.pyplot as plt\n",
    "import seaborn as sns\n",
    "\n",
    "from sklearn.pipeline import Pipeline\n",
    "from sklearn.feature_extraction.text import CountVectorizer, TfidfVectorizer\n",
    "from sklearn.naive_bayes import MultinomialNB\n",
    "from sklearn.linear_model import LogisticRegression\n",
    "from sklearn.ensemble import RandomForestClassifier\n",
    "from sklearn.model_selection import GridSearchCV, train_test_split\n",
    "from sklearn.metrics import confusion_matrix, classification_report, precision_recall_curve, roc_auc_score, roc_curve, auc\n",
    "from sklearn.base import BaseEstimator, TransformerMixin\n",
    "\n",
    "\n",
    "import gensim"
   ]
  },
  {
   "cell_type": "code",
   "execution_count": 60,
   "id": "91a94481",
   "metadata": {},
   "outputs": [
    {
     "data": {
      "text/plain": [
       "(3, 300)"
      ]
     },
     "execution_count": 60,
     "metadata": {},
     "output_type": "execute_result"
    }
   ],
   "source": [
    "# Load the embedding model (assuming it's a Word2Vec model saved as 'w2v_ngram.model')\n",
    "embedding_model = gensim.models.Word2Vec.load('models/w2v_ngram.model')\n",
    "\n",
    "def get_embeddings(words, model=embedding_model):\n",
    "    \"\"\"\n",
    "    Returns a list of embeddings for the given list of words.\n",
    "    If a word is not in the vocabulary, returns None for that word.\n",
    "    \"\"\"\n",
    "    embeddings = {}\n",
    "    for word in words:\n",
    "        if word in model.wv:\n",
    "            embeddings[word] = (model.wv[word])\n",
    "    \n",
    "    res = pd.DataFrame.from_dict(embeddings, orient= 'index')\n",
    "    return res.reindex(words).to_numpy()\n",
    "\n",
    "get_embeddings(['harina', 'pimentón_dulce', 'hacer'], embedding_model).shape"
   ]
  },
  {
   "cell_type": "markdown",
   "id": "d1171fa9",
   "metadata": {},
   "source": [
    "### Ingredient Classification: Yes or No?\n",
    "\n",
    "This section focuses on building a classification model to determine whether a given word or n-gram represents an **ingredient** or **not**.\n",
    "\n",
    "We will experiment with the following models:\n",
    "\n",
    "- **Naive Bayes**: Chosen for its simplicity, efficiency, and reasonable performance on text-based data.\n",
    "- **Logistic Regression**: A strong baseline for binary classification that performs well with high-dimensional data.\n",
    "- **Random Forest**: Provides good generalization and handles non-linear relationships, helping with noisy or imperfect labels.\n",
    "\n",
    "### Why we're not using:\n",
    "- **K-Nearest Neighbors (KNN)**: Too slow for prediction on large, imbalanced datasets.\n",
    "- **Support Vector Machines (SVM)**: Not ideal for large datasets and may struggle when classes aren't linearly separable.\n",
    "- **Decision Trees**: Prone to overfitting, especially with noisy labels.\n",
    "\n",
    "### Considerations:\n",
    "- Our training dataset was **manually labeled**, so it's crucial the model is **robust to mislabeled examples** or outliers.\n",
    "- Evaluation will include manual inspection of edge cases and common mistakes.\n",
    "\n",
    "### Test Cases:\n",
    "- `\"harina de trigo\"` → ingredient  \n",
    "- `\"precalentar el horno\"` → not an ingredient  \n",
    "- `\"queso rallado\"` → ingredient  \n",
    "- `\"batir los huevos\"` → not an ingredient  "
   ]
  },
  {
   "cell_type": "code",
   "execution_count": null,
   "id": "60193f63",
   "metadata": {},
   "outputs": [
    {
     "data": {
      "text/html": [
       "<div>\n",
       "<style scoped>\n",
       "    .dataframe tbody tr th:only-of-type {\n",
       "        vertical-align: middle;\n",
       "    }\n",
       "\n",
       "    .dataframe tbody tr th {\n",
       "        vertical-align: top;\n",
       "    }\n",
       "\n",
       "    .dataframe thead th {\n",
       "        text-align: right;\n",
       "    }\n",
       "</style>\n",
       "<table border=\"1\" class=\"dataframe\">\n",
       "  <thead>\n",
       "    <tr style=\"text-align: right;\">\n",
       "      <th></th>\n",
       "      <th>word</th>\n",
       "      <th>is_ingrediente</th>\n",
       "    </tr>\n",
       "  </thead>\n",
       "  <tbody>\n",
       "    <tr>\n",
       "      <th>4461</th>\n",
       "      <td>pimiento_amarillo</td>\n",
       "      <td>True</td>\n",
       "    </tr>\n",
       "    <tr>\n",
       "      <th>447</th>\n",
       "      <td>elaboración</td>\n",
       "      <td>False</td>\n",
       "    </tr>\n",
       "    <tr>\n",
       "      <th>404</th>\n",
       "      <td>mezclamos</td>\n",
       "      <td>False</td>\n",
       "    </tr>\n",
       "    <tr>\n",
       "      <th>2722</th>\n",
       "      <td>aderezar</td>\n",
       "      <td>False</td>\n",
       "    </tr>\n",
       "    <tr>\n",
       "      <th>4778</th>\n",
       "      <td>adquieran</td>\n",
       "      <td>False</td>\n",
       "    </tr>\n",
       "    <tr>\n",
       "      <th>5864</th>\n",
       "      <td>agrégalo</td>\n",
       "      <td>False</td>\n",
       "    </tr>\n",
       "  </tbody>\n",
       "</table>\n",
       "</div>"
      ],
      "text/plain": [
       "                   word  is_ingrediente\n",
       "4461  pimiento_amarillo            True\n",
       "447         elaboración           False\n",
       "404           mezclamos           False\n",
       "2722           aderezar           False\n",
       "4778          adquieran           False\n",
       "5864           agrégalo           False"
      ]
     },
     "execution_count": 21,
     "metadata": {},
     "output_type": "execute_result"
    }
   ],
   "source": [
    "data =pd.read_csv(\"data/is_ingrediente.csv\").rename(columns = {'Unnamed: 0':'word'})\n",
    "data.sample(6)"
   ]
  },
  {
   "cell_type": "code",
   "execution_count": 52,
   "id": "42d29f3f",
   "metadata": {},
   "outputs": [
    {
     "data": {
      "image/png": "[encoded data removed]",
      "text/plain": [
       "<Figure size 450x250 with 1 Axes>"
      ]
     },
     "metadata": {},
     "output_type": "display_data"
    }
   ],
   "source": [
    "plt.figure(figsize= (4.5,2.5))\n",
    "data['is_ingrediente'].value_counts(normalize=True).plot(\n",
    "    kind='bar',\n",
    "    color=['tomato', 'darkgreen'],\n",
    "    rot=0\n",
    ")\n",
    "plt.title('Proportion of Ingredient vs Non-Ingredient')\n",
    "plt.xlabel(None)\n",
    "plt.ylabel('Proportion')\n",
    "plt.xticks([0, 1], ['False', 'True'])\n",
    "plt.ylim((0,1))\n",
    "\n",
    "# Add text labels to each bar\n",
    "for i, v in enumerate(data['is_ingrediente'].value_counts(normalize=True)):\n",
    "    plt.text(i, v + 0.01, f\"{v:.1%}\", ha='center', va='bottom', fontsize= 10)\n",
    "\n",
    "plt.grid()\n",
    "plt.show()\n"
   ]
  },
  {
   "cell_type": "code",
   "execution_count": null,
   "id": "988a30be",
   "metadata": {},
   "outputs": [],
   "source": [
    "class EmbeddingVectorizer(BaseEstimator, TransformerMixin):\n",
    "    \"\"\"\n",
    "    Sklearn-compatible transformer that converts a list of words/phrases\n",
    "    to their embedding vectors using a gensim Word2Vec model.\n",
    "    If a word is not in the model, returns a zero vector of the same dimension.\n",
    "    \"\"\"\n",
    "    def __init__(self, model):\n",
    "        self.model = model\n",
    "        self.dim = model.vector_size\n",
    "\n",
    "    def fit(self, X, y=None):\n",
    "        return self\n",
    "\n",
    "    def transform(self, X):\n",
    "        # X is expected to be a list or array of strings\n",
    "        return get_embeddings(X, self.model)"
   ]
  },
  {
   "cell_type": "markdown",
   "id": "7bd5b222",
   "metadata": {},
   "source": []
  }
 ],
 "metadata": {
  "kernelspec": {
   "display_name": "nlp",
   "language": "python",
   "name": "python3"
  },
  "language_info": {
   "codemirror_mode": {
    "name": "ipython",
    "version": 3
   },
   "file_extension": ".py",
   "mimetype": "text/x-python",
   "name": "python",
   "nbconvert_exporter": "python",
   "pygments_lexer": "ipython3",
   "version": "3.10.16"
  }
 },
 "nbformat": 4,
 "nbformat_minor": 5
}
